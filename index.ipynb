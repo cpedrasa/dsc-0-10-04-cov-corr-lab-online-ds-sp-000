{
 "cells": [
  {
   "cell_type": "markdown",
   "metadata": {},
   "source": [
    "# Covariance and Correlation - Lab\n",
    "\n",
    "In this lab, we shall working towards calculating covariance and correlation for a given dataset in python. We shall use the formulas shown in previous lesson and verify our results with python libraries.\n",
    "\n",
    "## Objectives\n",
    "\n",
    "You will be able to \n",
    "* Calculate and and interpret correlation and covariance for given variables\n",
    "* Build density and scatter plots to visually identify the level of dependence between variables\n",
    "* Perform covariance and correlation using python and numpy "
   ]
  },
  {
   "cell_type": "markdown",
   "metadata": {},
   "source": [
    "### Dataset\n",
    "\n",
    "Included dataset (heightWeight.csv) includes 20 heights (inches) and weights(pounds). Yes, it is a particularly small dataset and will help us focus more on seeing covariance and correlation in action. At this point, you should be able to calculate the average height and average weight. You can also explain the medians, variances and standard deviations for this dataset.\n",
    "\n",
    "But all of those measurements are only concerned with a **single variable**. What if we want to see: \n",
    "\n",
    "How height interacts with weight ? \n",
    "\n",
    "Does weight increase as height increases ?\n",
    "\n",
    "Are Weight and Height not related at all ?\n",
    "\n",
    "Note while there are plenty of fat short people and overly skinny tall people, but when you look at the population at large, taller people will tend to weigh more than shorter people. This generalization of information is very common as it shows you a bigger picture that you can build your intuitions upon.\n",
    "\n",
    "Let's first load this dataset into pandas. Read the file \"heightWeight.csv\" and for header, length of the records and basic stats. "
   ]
  },
  {
   "cell_type": "code",
   "execution_count": 39,
   "metadata": {},
   "outputs": [
    {
     "name": "stdout",
     "output_type": "stream",
     "text": [
      "          height      Weight\n",
      "count  20.000000   20.000000\n",
      "mean   66.850000  165.800000\n",
      "std     5.112163   28.971129\n",
      "min    58.000000  115.000000\n",
      "25%    63.250000  143.750000\n",
      "50%    68.500000  170.000000\n",
      "75%    71.000000  192.750000\n",
      "max    74.000000  210.000000\n"
     ]
    },
    {
     "data": {
      "text/html": [
       "<div>\n",
       "<style scoped>\n",
       "    .dataframe tbody tr th:only-of-type {\n",
       "        vertical-align: middle;\n",
       "    }\n",
       "\n",
       "    .dataframe tbody tr th {\n",
       "        vertical-align: top;\n",
       "    }\n",
       "\n",
       "    .dataframe thead th {\n",
       "        text-align: right;\n",
       "    }\n",
       "</style>\n",
       "<table border=\"1\" class=\"dataframe\">\n",
       "  <thead>\n",
       "    <tr style=\"text-align: right;\">\n",
       "      <th></th>\n",
       "      <th>height</th>\n",
       "      <th>Weight</th>\n",
       "    </tr>\n",
       "  </thead>\n",
       "  <tbody>\n",
       "    <tr>\n",
       "      <th>0</th>\n",
       "      <td>68</td>\n",
       "      <td>165</td>\n",
       "    </tr>\n",
       "    <tr>\n",
       "      <th>1</th>\n",
       "      <td>71</td>\n",
       "      <td>201</td>\n",
       "    </tr>\n",
       "    <tr>\n",
       "      <th>2</th>\n",
       "      <td>61</td>\n",
       "      <td>140</td>\n",
       "    </tr>\n",
       "    <tr>\n",
       "      <th>3</th>\n",
       "      <td>69</td>\n",
       "      <td>170</td>\n",
       "    </tr>\n",
       "    <tr>\n",
       "      <th>4</th>\n",
       "      <td>71</td>\n",
       "      <td>192</td>\n",
       "    </tr>\n",
       "    <tr>\n",
       "      <th>5</th>\n",
       "      <td>58</td>\n",
       "      <td>125</td>\n",
       "    </tr>\n",
       "    <tr>\n",
       "      <th>6</th>\n",
       "      <td>72</td>\n",
       "      <td>195</td>\n",
       "    </tr>\n",
       "    <tr>\n",
       "      <th>7</th>\n",
       "      <td>73</td>\n",
       "      <td>205</td>\n",
       "    </tr>\n",
       "    <tr>\n",
       "      <th>8</th>\n",
       "      <td>58</td>\n",
       "      <td>115</td>\n",
       "    </tr>\n",
       "    <tr>\n",
       "      <th>9</th>\n",
       "      <td>74</td>\n",
       "      <td>210</td>\n",
       "    </tr>\n",
       "    <tr>\n",
       "      <th>10</th>\n",
       "      <td>61</td>\n",
       "      <td>135</td>\n",
       "    </tr>\n",
       "    <tr>\n",
       "      <th>11</th>\n",
       "      <td>59</td>\n",
       "      <td>125</td>\n",
       "    </tr>\n",
       "    <tr>\n",
       "      <th>12</th>\n",
       "      <td>69</td>\n",
       "      <td>172</td>\n",
       "    </tr>\n",
       "    <tr>\n",
       "      <th>13</th>\n",
       "      <td>68</td>\n",
       "      <td>175</td>\n",
       "    </tr>\n",
       "    <tr>\n",
       "      <th>14</th>\n",
       "      <td>64</td>\n",
       "      <td>145</td>\n",
       "    </tr>\n",
       "    <tr>\n",
       "      <th>15</th>\n",
       "      <td>69</td>\n",
       "      <td>170</td>\n",
       "    </tr>\n",
       "    <tr>\n",
       "      <th>16</th>\n",
       "      <td>72</td>\n",
       "      <td>200</td>\n",
       "    </tr>\n",
       "    <tr>\n",
       "      <th>17</th>\n",
       "      <td>66</td>\n",
       "      <td>155</td>\n",
       "    </tr>\n",
       "    <tr>\n",
       "      <th>18</th>\n",
       "      <td>65</td>\n",
       "      <td>150</td>\n",
       "    </tr>\n",
       "    <tr>\n",
       "      <th>19</th>\n",
       "      <td>69</td>\n",
       "      <td>171</td>\n",
       "    </tr>\n",
       "  </tbody>\n",
       "</table>\n",
       "</div>"
      ],
      "text/plain": [
       "    height  Weight\n",
       "0       68     165\n",
       "1       71     201\n",
       "2       61     140\n",
       "3       69     170\n",
       "4       71     192\n",
       "5       58     125\n",
       "6       72     195\n",
       "7       73     205\n",
       "8       58     115\n",
       "9       74     210\n",
       "10      61     135\n",
       "11      59     125\n",
       "12      69     172\n",
       "13      68     175\n",
       "14      64     145\n",
       "15      69     170\n",
       "16      72     200\n",
       "17      66     155\n",
       "18      65     150\n",
       "19      69     171"
      ]
     },
     "execution_count": 39,
     "metadata": {},
     "output_type": "execute_result"
    }
   ],
   "source": [
    "# Load the dataset into pandas and perform basic inspection\n",
    "import pandas as pd\n",
    "data = pd.read_csv('heightWeight.csv')\n",
    "print(data.describe())\n",
    "data\n",
    "\n",
    "# 20\n",
    "#    height  Weight\n",
    "# 0      68     165\n",
    "# 1      71     201\n",
    "# 2      61     140\n",
    "# 3      69     170\n",
    "# 4      71     192\n",
    "#           height      Weight\n",
    "# count  20.000000   20.000000\n",
    "# mean   66.850000  165.800000\n",
    "# std     5.112163   28.971129\n",
    "# min    58.000000  115.000000\n",
    "# 25%    63.250000  143.750000\n",
    "# 50%    68.500000  170.000000\n",
    "# 75%    71.000000  192.750000\n",
    "# max    74.000000  210.000000\n",
    "\n"
   ]
  },
  {
   "cell_type": "markdown",
   "metadata": {},
   "source": [
    "### Calculate covariance \n",
    "\n",
    "Here's the covariance formula once again. \n",
    "\n",
    "![](cov2.png)\n",
    "\n",
    "We would use (n-1) due to the fact that we are working with samples of a bigger population here. \n",
    "\n",
    "#### Mean normalization \n",
    "\n",
    "But before we do this, we have to ensure the that both variables are **Mean Normalized** (as shown in the numerator above). i.e. both variables have mean values = 0 . This allows us to calculate how much they vary while disregarding their distance from each other. A bit like standardization that we saw before, but here we are not standardizing the spread (standard deviation), as that is what needs to be studied. So the formula to mean normalize a data set is : \n",
    "\n",
    "> **xi - X(mean)**\n",
    "\n",
    "Pretty simple, take each element of the variable and subtract the mean value from it. This will create a new \"mean-normalized\" dataset. Let's write a function that takes in a vector, calculates the mean of vector and subtracts the calculated mean value from each element to calculate xi - X(mean). \n",
    "\n",
    "Hint: use `np.mean()` to calculate the mean for above formula "
   ]
  },
  {
   "cell_type": "code",
   "execution_count": 43,
   "metadata": {},
   "outputs": [
    {
     "data": {
      "text/plain": [
       "([-2.0, -1.0, 0.0, 1.0, 2.0], [-22.0, -11.0, 0.0, 11.0, 22.0])"
      ]
     },
     "execution_count": 43,
     "metadata": {},
     "output_type": "execute_result"
    }
   ],
   "source": [
    "import numpy as np\n",
    "\n",
    "# Write a function to take in an iterable, calculate the mean and subtract the mean value\n",
    "# from each element , creating and returning a new list. \n",
    "\n",
    "def mean_normalize(var):\n",
    "\n",
    "    norm = [] # Vector for storing output values \n",
    "    n = 0     # a counter to identify the position of next element in vector\n",
    "    mean = np.mean(var)\n",
    "    \n",
    "    # for each element in the vector, subtract from mean and add the result to norm\n",
    "    for i in var:\n",
    "        diff = var[n] - mean\n",
    "        norm.append(diff)\n",
    "        n = n + 1\n",
    "    \n",
    "    return norm\n",
    "\n",
    "mean_normalize([1,2,3,4,5]), mean_normalize([11,22,33,44,55])\n",
    "\n",
    "\n",
    "# ([-2.0, -1.0, 0.0, 1.0, 2.0], [-22.0, -11.0, 0.0, 11.0, 22.0])"
   ]
  },
  {
   "cell_type": "markdown",
   "metadata": {},
   "source": [
    "Great so you see, our function maintains the variance of list elements and moves their mean to zero. As a quick test, we can visualize what exactly happens to the data with mean normalization. Plot the height variable distribution before and after the normalization process. "
   ]
  },
  {
   "cell_type": "code",
   "execution_count": 44,
   "metadata": {},
   "outputs": [
    {
     "name": "stderr",
     "output_type": "stream",
     "text": [
      "/Users/rndatasc/anaconda3/envs/learn-env/lib/python3.6/site-packages/scipy/stats/stats.py:1713: FutureWarning: Using a non-tuple sequence for multidimensional indexing is deprecated; use `arr[tuple(seq)]` instead of `arr[seq]`. In the future this will be interpreted as an array index, `arr[np.array(seq)]`, which will result either in an error or a different result.\n",
      "  return np.add.reduce(sorted[indexer] * weights, axis=axis) / sumval\n"
     ]
    },
    {
     "data": {
      "text/plain": [
       "<matplotlib.axes._subplots.AxesSubplot at 0x1a2305dcc0>"
      ]
     },
     "execution_count": 44,
     "metadata": {},
     "output_type": "execute_result"
    },
    {
     "data": {
      "image/png": "[encoded data removed]",
      "text/plain": [
       "<Figure size 432x288 with 1 Axes>"
      ]
     },
     "metadata": {},
     "output_type": "display_data"
    }
   ],
   "source": [
    "# Visualize the height data distribution before and after mean normalization \n",
    "height = mean_normalize(df.height)\n",
    "import seaborn as sns\n",
    "sns.distplot(df['height'])\n",
    "sns.distplot(height)\n"
   ]
  },
  {
   "cell_type": "code",
   "execution_count": 45,
   "metadata": {},
   "outputs": [
    {
     "name": "stderr",
     "output_type": "stream",
     "text": [
      "/Users/rndatasc/anaconda3/envs/learn-env/lib/python3.6/site-packages/scipy/stats/stats.py:1713: FutureWarning: Using a non-tuple sequence for multidimensional indexing is deprecated; use `arr[tuple(seq)]` instead of `arr[seq]`. In the future this will be interpreted as an array index, `arr[np.array(seq)]`, which will result either in an error or a different result.\n",
      "  return np.add.reduce(sorted[indexer] * weights, axis=axis) / sumval\n"
     ]
    },
    {
     "data": {
      "text/plain": [
       "<matplotlib.axes._subplots.AxesSubplot at 0x1a23126d30>"
      ]
     },
     "execution_count": 45,
     "metadata": {},
     "output_type": "execute_result"
    },
    {
     "data": {
      "image/png": "[encoded data removed]",
      "text/plain": [
       "<Figure size 432x288 with 1 Axes>"
      ]
     },
     "metadata": {},
     "output_type": "display_data"
    }
   ],
   "source": [
    "eight = mean_normalize(df.Weight)\n",
    "import seaborn as sns\n",
    "sns.distplot(data['Weight'])\n",
    "sns.distplot(Weight)"
   ]
  },
  {
   "cell_type": "markdown",
   "metadata": {},
   "source": [
    "So there you go, not much changes in the shape of the data. Try repeating above with weight. \n",
    "\n",
    "#### The dot product\n",
    "\n",
    "So now that we have our new normalized datasets. According to the numerator in the formula,we have to take the **DOT PRODUCT** of these two vector values. A dot product  let's us apply the directional growth of one vector to another. Dot products are very important in vector calculus for a number of applications. [Here is a great article explaining this in detail](https://betterexplained.com/articles/vector-calculus-understanding-the-dot-product/). \n",
    "\n",
    "For two vectors a and b, a dot product is calculated by multiplying each element of one vector to its counterpart in the second , and then adding them up together.  \n",
    "```\n",
    " a[0] * b[0] + a[1] * b[1] + a[2] * b[2] ...\n",
    "\n",
    "```\n",
    "\n",
    "So lets write a function that will take two iterables and return their dot product. "
   ]
  },
  {
   "cell_type": "code",
   "execution_count": 46,
   "metadata": {},
   "outputs": [
    {
     "data": {
      "text/plain": [
       "32"
      ]
     },
     "execution_count": 46,
     "metadata": {},
     "output_type": "execute_result"
    }
   ],
   "source": [
    "# Write a function to calculate the dot product of two iterables \n",
    "\n",
    "def dot_product(x,y):\n",
    "    n = 0  \n",
    "    prod_vec = [] \n",
    "    \n",
    "    for i in range(len(x)):\n",
    "        prod = x[i]* y[i]\n",
    "        prod_vec.append(prod)\n",
    "        n += 1\n",
    "        \n",
    "    dot_prod = np.sum(prod_vec)\n",
    "    return dot_prod\n",
    "\n",
    "a = [1,2,3]\n",
    "b = [4,5,6]\n",
    "\n",
    "dot_product(a,b)\n",
    "\n",
    "#  32  calculated as (1*4 + 2*5 + 3*6)"
   ]
  },
  {
   "cell_type": "markdown",
   "metadata": {},
   "source": [
    "So we have the numerator of the formula sorted out. Let's finally write a function `covariance()` that will take height and weight lists we created earlier and return the covariance value using the functions we created earlier. "
   ]
  },
  {
   "cell_type": "code",
   "execution_count": 47,
   "metadata": {},
   "outputs": [
    {
     "data": {
      "text/plain": [
       "144.75789473684208"
      ]
     },
     "execution_count": 47,
     "metadata": {},
     "output_type": "execute_result"
    }
   ],
   "source": [
    "# Calculate covariance using functions above\n",
    "\n",
    "def covariance(var1, var2):\n",
    "\n",
    "    # Formula for covariance is:\n",
    "    # [Sum (x_i - X)(y_i - Y)] / N-1 \n",
    "    \n",
    "    # Sanity Check : Check to see if both vectors are of same length\n",
    "    # Exit the function if variables have different lengths\n",
    "\n",
    "    if len(var1) != len(var2):\n",
    "        return None \n",
    "    else: \n",
    "       \n",
    "        # Mean normalize both variables \n",
    "        x = mean_normalize(var1)\n",
    "        y = mean_normalize(var2)\n",
    "        \n",
    "        # Take the dot product of mean normalized variables\n",
    "        result = dot_product(x,y)\n",
    "\n",
    "        # divide the dot product by n-1    \n",
    "        return result /((len(var1)) -1)\n",
    "\n",
    "\n",
    "\n",
    "# Uncomment below to check your function\n",
    "\n",
    "covariance(data['height'], data['Weight'])\n",
    "\n",
    "# 144.75789473684208"
   ]
  },
  {
   "cell_type": "markdown",
   "metadata": {},
   "source": [
    "Let's verify our results with pandas built in `dataFrame.cov()` method."
   ]
  },
  {
   "cell_type": "code",
   "execution_count": 48,
   "metadata": {},
   "outputs": [
    {
     "data": {
      "text/html": [
       "<div>\n",
       "<style scoped>\n",
       "    .dataframe tbody tr th:only-of-type {\n",
       "        vertical-align: middle;\n",
       "    }\n",
       "\n",
       "    .dataframe tbody tr th {\n",
       "        vertical-align: top;\n",
       "    }\n",
       "\n",
       "    .dataframe thead th {\n",
       "        text-align: right;\n",
       "    }\n",
       "</style>\n",
       "<table border=\"1\" class=\"dataframe\">\n",
       "  <thead>\n",
       "    <tr style=\"text-align: right;\">\n",
       "      <th></th>\n",
       "      <th>height</th>\n",
       "      <th>Weight</th>\n",
       "    </tr>\n",
       "  </thead>\n",
       "  <tbody>\n",
       "    <tr>\n",
       "      <th>height</th>\n",
       "      <td>26.134211</td>\n",
       "      <td>144.757895</td>\n",
       "    </tr>\n",
       "    <tr>\n",
       "      <th>Weight</th>\n",
       "      <td>144.757895</td>\n",
       "      <td>839.326316</td>\n",
       "    </tr>\n",
       "  </tbody>\n",
       "</table>\n",
       "</div>"
      ],
      "text/plain": [
       "            height      Weight\n",
       "height   26.134211  144.757895\n",
       "Weight  144.757895  839.326316"
      ]
     },
     "execution_count": 48,
     "metadata": {},
     "output_type": "execute_result"
    }
   ],
   "source": [
    "# uncomment to run\n",
    "data.cov()"
   ]
  },
  {
   "cell_type": "markdown",
   "metadata": {},
   "source": [
    "Okay so covariance (as well as correlation) are usually shown in matrix form. the covariance between height and weight is exactly what we calculated. the matrix also shows the covariance of a variable with itself. So this gives us magnitude which is a bit hard to interpret. How about we visualize height and weight on a scatter plot ! "
   ]
  },
  {
   "cell_type": "code",
   "execution_count": 49,
   "metadata": {},
   "outputs": [
    {
     "data": {
      "text/plain": [
       "<matplotlib.collections.PathCollection at 0x1a23232780>"
      ]
     },
     "execution_count": 49,
     "metadata": {},
     "output_type": "execute_result"
    },
    {
     "data": {
      "image/png": "[encoded data removed]",
      "text/plain": [
       "<Figure size 432x288 with 1 Axes>"
      ]
     },
     "metadata": {},
     "output_type": "display_data"
    }
   ],
   "source": [
    "# Plot a scatter graph between height and weight to visually inspect the relationship \n",
    "import matplotlib.pyplot as plt\n",
    "plt.style.use('ggplot')\n",
    "plt.scatter(data.height, data.Weight)"
   ]
  },
  {
   "cell_type": "markdown",
   "metadata": {},
   "source": [
    "So we can see there is quite a bit of positive relationship between the two, but a covariance value is a bit hard to interpret. So let's try calculating correlation. "
   ]
  },
  {
   "cell_type": "markdown",
   "metadata": {},
   "source": [
    "### Calculate Correlation\n",
    "\n",
    "Once again, heres the formula to calculate the correlation. \n",
    "![](cor.png)\n",
    "\n",
    "lots of mean normalizations going on here. It shouldn't be too hard now to implement this using our functions above."
   ]
  },
  {
   "cell_type": "code",
   "execution_count": 50,
   "metadata": {},
   "outputs": [
    {
     "data": {
      "text/plain": [
       "0.98"
      ]
     },
     "execution_count": 50,
     "metadata": {},
     "output_type": "execute_result"
    }
   ],
   "source": [
    "# Calculate Correlation between two variables using formula above\n",
    "\n",
    "import math\n",
    "def correlation(var1,var2):\n",
    "    \n",
    "    if len(var1) != len(var2):\n",
    "        return None \n",
    "    else: \n",
    "       \n",
    "        mean_norm_var1 = mean_normalize(var1)\n",
    "        mean_norm_var2 = mean_normalize(var2)\n",
    "        \n",
    "        var1_dot_var2 = [a * b for a, b in list(zip(mean_norm_var1, mean_norm_var2))]\n",
    "        \n",
    "        var1_squared = [i * i for i in mean_norm_var1]\n",
    "        var2_squared = [i * i for i in mean_norm_var2]\n",
    "        \n",
    "        return np.round(sum(var1_dot_var2) / math.sqrt(sum(var1_squared) * sum(var2_squared)), 2)\n",
    "\n",
    "correlation(data['height'], data['Weight'])\n",
    "# 0.98"
   ]
  },
  {
   "cell_type": "markdown",
   "metadata": {},
   "source": [
    "Wow, 0.98, thats very close to one. So that means height and weight are like TOTALLY dependent on each other. Well, only for this particular sample. And there is a takeaway in this. sample size plays a major rule in determining the nature of a variable and its relationship with other variables. the set of 20 records we have seem to correlate highly, but this might be different for a different set of samples. We shall talk about how to further test such a finding to either reject it , or confirm it as a FACT. "
   ]
  },
  {
   "cell_type": "markdown",
   "metadata": {},
   "source": [
    "As a last check , let's use pandas `dataframe.corr()` method to see how that works. "
   ]
  },
  {
   "cell_type": "code",
   "execution_count": 51,
   "metadata": {},
   "outputs": [
    {
     "data": {
      "text/html": [
       "<div>\n",
       "<style scoped>\n",
       "    .dataframe tbody tr th:only-of-type {\n",
       "        vertical-align: middle;\n",
       "    }\n",
       "\n",
       "    .dataframe tbody tr th {\n",
       "        vertical-align: top;\n",
       "    }\n",
       "\n",
       "    .dataframe thead th {\n",
       "        text-align: right;\n",
       "    }\n",
       "</style>\n",
       "<table border=\"1\" class=\"dataframe\">\n",
       "  <thead>\n",
       "    <tr style=\"text-align: right;\">\n",
       "      <th></th>\n",
       "      <th>height</th>\n",
       "      <th>Weight</th>\n",
       "    </tr>\n",
       "  </thead>\n",
       "  <tbody>\n",
       "    <tr>\n",
       "      <th>height</th>\n",
       "      <td>1.0000</td>\n",
       "      <td>0.9774</td>\n",
       "    </tr>\n",
       "    <tr>\n",
       "      <th>Weight</th>\n",
       "      <td>0.9774</td>\n",
       "      <td>1.0000</td>\n",
       "    </tr>\n",
       "  </tbody>\n",
       "</table>\n",
       "</div>"
      ],
      "text/plain": [
       "        height  Weight\n",
       "height  1.0000  0.9774\n",
       "Weight  0.9774  1.0000"
      ]
     },
     "execution_count": 51,
     "metadata": {},
     "output_type": "execute_result"
    }
   ],
   "source": [
    "# uncomment to run\n",
    "data.corr()"
   ]
  },
  {
   "cell_type": "markdown",
   "metadata": {},
   "source": [
    "Another matrix similar to above. And we see that a correlation of a variable to itself will always be = 1. The correlation between height and weight can be rounded off to our results. That is great. Now we know how this works. "
   ]
  },
  {
   "cell_type": "markdown",
   "metadata": {},
   "source": [
    "## Summary \n",
    "\n",
    "In this lab we saw how to calculate the covariance and correlation between variables. We also looked at mean normalization and dot products which will be revisited later in the course. FInally we saw how to calculate these measures using pandas built in methods. "
   ]
  }
 ],
 "metadata": {
  "kernelspec": {
   "display_name": "learn-env",
   "language": "python",
   "name": "learn-env"
  },
  "language_info": {
   "codemirror_mode": {
    "name": "ipython",
    "version": 3
   },
   "file_extension": ".py",
   "mimetype": "text/x-python",
   "name": "python",
   "nbconvert_exporter": "python",
   "pygments_lexer": "ipython3",
   "version": "3.6.6"
  }
 },
 "nbformat": 4,
 "nbformat_minor": 2
}
